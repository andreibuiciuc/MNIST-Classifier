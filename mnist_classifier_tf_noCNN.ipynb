{
  "nbformat": 4,
  "nbformat_minor": 0,
  "metadata": {
    "colab": {
      "name": "mnist-classifier-tf-noCNN.ipynb",
      "provenance": [],
      "collapsed_sections": [],
      "authorship_tag": "ABX9TyMJ+tXX803FUNLj5xoMeoO/",
      "include_colab_link": true
    },
    "kernelspec": {
      "name": "python3",
      "display_name": "Python 3"
    },
    "language_info": {
      "name": "python"
    }
  },
  "cells": [
    {
      "cell_type": "markdown",
      "metadata": {
        "id": "view-in-github",
        "colab_type": "text"
      },
      "source": [
        "<a href=\"https://colab.research.google.com/github/andreibuiciuc/MNIST-Classifier/blob/main/mnist_classifier_tf_noCNN.ipynb\" target=\"_parent\"><img src=\"https://colab.research.google.com/assets/colab-badge.svg\" alt=\"Open In Colab\"/></a>"
      ]
    },
    {
      "cell_type": "markdown",
      "metadata": {
        "id": "-sgY62k3E1Y0"
      },
      "source": [
        "## **MNIST Classifier with Tensorflow**\n",
        "\n",
        "In this notebook, one builts a MNIST classifier (without CNN) as a Tensorflow program. The implementation is OOP oriented and is based on tensorflow's features."
      ]
    },
    {
      "cell_type": "code",
      "metadata": {
        "colab": {
          "base_uri": "https://localhost:8080/"
        },
        "id": "_56AkI5F-n9E",
        "outputId": "a36385f5-3fb3-42f4-b1c2-3e7696015bf5"
      },
      "source": [
        "import numpy as np\n",
        "import tensorflow as tf\n",
        "import matplotlib.pyplot as plt\n",
        "from PIL import Image, ImageOps\n",
        "\n",
        "%matplotlib inline\n",
        "\n",
        "print(\"Setup done.\")"
      ],
      "execution_count": 1,
      "outputs": [
        {
          "output_type": "stream",
          "name": "stdout",
          "text": [
            "Setup done.\n"
          ]
        }
      ]
    },
    {
      "cell_type": "markdown",
      "metadata": {
        "id": "frV324tcQkBB"
      },
      "source": [
        "Load the MNIST dataset - the keras API offers a quick way to fetch and split the dataset into training and testing sets."
      ]
    },
    {
      "cell_type": "code",
      "metadata": {
        "id": "9k4fdgJNIs3E",
        "colab": {
          "base_uri": "https://localhost:8080/"
        },
        "outputId": "77603319-5784-433c-9a8f-69971c8d45e0"
      },
      "source": [
        "(x_train_np, y_train_np), (x_test_np, y_test_np) = tf.keras.datasets.mnist.load_data()\n",
        "\n",
        "print(\"Number of training examples: \", x_train_np.shape[0])\n",
        "print(\"Number of testing examples: \", x_test_np.shape[0])"
      ],
      "execution_count": 2,
      "outputs": [
        {
          "output_type": "stream",
          "name": "stdout",
          "text": [
            "Number of training examples:  60000\n",
            "Number of testing examples:  10000\n"
          ]
        }
      ]
    },
    {
      "cell_type": "markdown",
      "metadata": {
        "id": "gGNxNdwgQ7Kl"
      },
      "source": [
        "The method above returns numpy arrays. Convert them into Tensorflow datasets."
      ]
    },
    {
      "cell_type": "code",
      "metadata": {
        "id": "wjUdo-n3J_Hv"
      },
      "source": [
        "# Create tf train datasets from numpy arrays\n",
        "x_train = tf.data.Dataset.from_tensor_slices(x_train_np)\n",
        "y_train = tf.data.Dataset.from_tensor_slices(y_train_np)\n",
        "\n",
        "# Create tf test datasets from numpy arrays\n",
        "x_test = tf.data.Dataset.from_tensor_slices(x_test_np)\n",
        "y_test = tf.data.Dataset.from_tensor_slices(y_test_np)\n"
      ],
      "execution_count": 3,
      "outputs": []
    },
    {
      "cell_type": "markdown",
      "metadata": {
        "id": "GvnqP0AMa49u"
      },
      "source": [
        "Check the type and dimensions for the previously created datasets."
      ]
    },
    {
      "cell_type": "code",
      "metadata": {
        "colab": {
          "base_uri": "https://localhost:8080/"
        },
        "id": "fNroeDulKMZO",
        "outputId": "4e41b679-8ae1-4b51-8d10-8b6955973170"
      },
      "source": [
        "print(\"Check for training set: \")\n",
        "print(\"x_train type: \", type(x_train))\n",
        "print(\"x_train spec: \", x_train.element_spec)\n",
        "print(\"y_train type: \", type(y_train))\n",
        "print(\"y_train spec: \", y_train.element_spec)\n",
        "\n",
        "print(\"\\nCheck for testing set: \")\n",
        "print(\"x_test type: \", type(x_test))\n",
        "print(\"x_test spec: \", x_test.element_spec)\n",
        "print(\"y_test type: \", type(y_test))\n",
        "print(\"y_test spec: \", y_test.element_spec)"
      ],
      "execution_count": 4,
      "outputs": [
        {
          "output_type": "stream",
          "name": "stdout",
          "text": [
            "Check for training set: \n",
            "x_train type:  <class 'tensorflow.python.data.ops.dataset_ops.TensorSliceDataset'>\n",
            "x_train spec:  TensorSpec(shape=(28, 28), dtype=tf.uint8, name=None)\n",
            "y_train type:  <class 'tensorflow.python.data.ops.dataset_ops.TensorSliceDataset'>\n",
            "y_train spec:  TensorSpec(shape=(), dtype=tf.uint8, name=None)\n",
            "\n",
            "Check for testing set: \n",
            "x_test type:  <class 'tensorflow.python.data.ops.dataset_ops.TensorSliceDataset'>\n",
            "x_test spec:  TensorSpec(shape=(28, 28), dtype=tf.uint8, name=None)\n",
            "y_test type:  <class 'tensorflow.python.data.ops.dataset_ops.TensorSliceDataset'>\n",
            "y_test spec:  TensorSpec(shape=(), dtype=tf.uint8, name=None)\n"
          ]
        }
      ]
    },
    {
      "cell_type": "code",
      "metadata": {
        "colab": {
          "base_uri": "https://localhost:8080/",
          "height": 373
        },
        "id": "XaoBX0TYMPCM",
        "outputId": "0cde1fd3-e85c-4826-d4f5-05cf1b3f80f8"
      },
      "source": [
        "# Explore the MNIST dataset\n",
        "\n",
        "fig = plt.figure(figsize=(6,6))\n",
        "axes = []\n",
        "index = 0\n",
        "rows = 3\n",
        "columns = 3\n",
        "\n",
        "for i in range(rows * columns):\n",
        "  axes.append(fig.add_subplot(rows, columns, i+1))\n",
        "  axes[index].set_title(\"Label: \" + str(np.squeeze(y_train_np[index])))\n",
        "  axes[index].axis('off')\n",
        "  plt.imshow(x_train_np[index], cmap='gray')\n",
        "  index += 1\n",
        "\n",
        "plt.show() "
      ],
      "execution_count": 5,
      "outputs": [
        {
          "output_type": "display_data",
          "data": {
            "image/png": "[encoded data removed]",
            "text/plain": [
              "<Figure size 432x432 with 9 Axes>"
            ]
          },
          "metadata": {
            "needs_background": "light"
          }
        }
      ]
    },
    {
      "cell_type": "markdown",
      "metadata": {
        "id": "3jIzPPVRY5xH"
      },
      "source": [
        "### **Model Implementation**\n",
        "\n",
        "For this problem, one builds a deep neural network model with an OOP approach. \n",
        "The implementation is straightforward and consists of a model class having features helpful for the forward propagation part. Because using tensorflow, computations are recorded in a graph with Gradient Tape and then, by moving backwards, gradients are automatically calculated without the programmer's intervention.\n",
        "\n",
        "This model uses **Adam** as optimazation (which can be seen as a combination of gradient descent with momentum and RMSprop) and it has a custom training loop for training in minibatches. **ReLU** is used as activation function in the hidden layers and **Softmax** for the output layer."
      ]
    },
    {
      "cell_type": "code",
      "metadata": {
        "id": "sOynuXeYNIVi"
      },
      "source": [
        "class Model:\n",
        "  def __init__(self, x_train, y_train, x_test, y_test, hidden_dimensions,\n",
        "               learning_rate=0.001, epochs=100, minibatch_size=32, print_cost=True):\n",
        "    self.__x_train = x_train\n",
        "    self.__y_train = y_train\n",
        "    self.__x_test = x_test\n",
        "    self.__y_test = y_test\n",
        "    self.__dimensions = self.__set_dimensions(hidden_dimensions)\n",
        "    self.__learning_rate = learning_rate\n",
        "    self.__epochs = epochs\n",
        "    self.__minibatch_size = minibatch_size\n",
        "    self.__print_cost = print_cost\n",
        "    self.__parameters = {}\n",
        "  \n",
        "  @staticmethod\n",
        "  def __set_dimensions(hidden_dimensions):\n",
        "    \"\"\"\n",
        "    Sets the model's dimensions.\n",
        "    \"\"\"\n",
        "    # The input has 784 units\n",
        "    dimensions = [784]\n",
        "    \n",
        "    for dim in hidden_dimensions:\n",
        "      dimensions.append(dim)\n",
        "    \n",
        "    # The output has 10 units\n",
        "    dimensions.append(10)\n",
        "\n",
        "    return dimensions\n",
        "\n",
        "  def get_info(self):\n",
        "    \"\"\"\n",
        "    Provides the used metrics.\n",
        "    \"\"\"\n",
        "    d = {\"parameters\": self.__parameters, \n",
        "         \"learning_rate\": self.__learning_rate,\n",
        "         \"epochs\": self.__epochs,\n",
        "         \"minibatch_size\": self.__minibatch_size,\n",
        "         \"dimensions\": self.__dimensions}\n",
        "    \n",
        "    return d\n",
        "\n",
        "  def __init_parameters(self):\n",
        "    \"\"\"\n",
        "    Initializes parameters using Glorot (Xavier) initialization method. \n",
        "    \"\"\"\n",
        "    initializer = tf.keras.initializers.GlorotNormal()\n",
        "    \n",
        "    for l in range(1, len(self.__dimensions)):\n",
        "      self.__parameters[\"W\"+str(l)] = tf.Variable(initializer(shape=(self.__dimensions[l], self.__dimensions[l-1])))\n",
        "      self.__parameters[\"b\"+str(l)] = tf.Variable(initializer(shape=(self.__dimensions[l], 1)))    \n",
        "    \n",
        "  def __standardize(self, input):\n",
        "    \"\"\"\n",
        "    Standardizes and reshapes an image input from the dataset.\n",
        "    \"\"\"\n",
        "    # Reshape\n",
        "    input = tf.reshape(input, [-1,])\n",
        "    # Standardize\n",
        "    input = tf.cast(input, tf.float32) / 255.\n",
        "    return input\n",
        "  \n",
        "  def __one_hot(self, label, classes=10):\n",
        "    \"\"\"\n",
        "    Creates an one-hot single column matrix for a given label.\n",
        "    \"\"\"\n",
        "    one_hot = tf.one_hot(label, classes)\n",
        "    one_hot = tf.reshape(one_hot, (classes,))\n",
        "    return one_hot\n",
        "\n",
        "  def __linear_forward(self, X):\n",
        "    \"\"\"\n",
        "    Computes the linear part of forward propagation.\n",
        "    \"\"\"\n",
        "    A = X\n",
        "    for l in range(1, (len(self.__parameters) // 2)):\n",
        "      Z = tf.add(tf.matmul(self.__parameters[\"W\"+str(l)], A), self.__parameters[\"b\"+str(l)])\n",
        "      A = tf.keras.activations.relu(Z)\n",
        "    \n",
        "    L = len(self.__parameters) // 2\n",
        "    Z = tf.add(tf.matmul(self.__parameters[\"W\"+str(L)], A), self.__parameters[\"b\"+str(L)])\n",
        "    # Do not apply Softmax, the cost function will automatically do so.\n",
        "    return Z\n",
        "  \n",
        "  def __compute_cost(self, logits, labels):\n",
        "    \"\"\"\n",
        "    Computes the categorical cross-entropy cost.\n",
        "    \"\"\"\n",
        "    cost = tf.keras.losses.categorical_crossentropy(tf.transpose(labels), tf.transpose(logits), from_logits=True)\n",
        "    cost = tf.reduce_mean(cost)\n",
        "    return cost\n",
        "  \n",
        "  def predict(self, x):\n",
        "    \"\"\"\n",
        "    Predicts the label of an image.\n",
        "    \"\"\"\n",
        "    z = self.__linear_forward(x)\n",
        "    a = tf.divide(tf.exp(z), tf.reduce_sum(tf.exp(z)))\n",
        "    y_hat = tf.math.argmax(a)\n",
        "    return y_hat\n",
        "\n",
        "  def fit(self):\n",
        "    \"\"\"\n",
        "    Builds the model.\n",
        "    \"\"\"\n",
        "    # Initialize the parameters\n",
        "    self.__init_parameters()\n",
        "\n",
        "    # Standardize the data\n",
        "    self.__x_train = self.__x_train.map(self.__standardize)\n",
        "    self.__x_test = self.__x_test.map(self.__standardize)\n",
        "\n",
        "    # Convert labels as one hot matrices\n",
        "    self.__y_train = self.__y_train.map(self.__one_hot)\n",
        "    self.__y_test = self.__y_test.map(self.__one_hot)\n",
        "\n",
        "    # Keep track of costs and accuracies\n",
        "    costs = []\n",
        "    train_accuracies = []\n",
        "    test_accuracies = []\n",
        "\n",
        "    #Initialize the train and test accuracy\n",
        "    train_accuracy = tf.keras.metrics.CategoricalAccuracy()\n",
        "    test_accuracy = tf.keras.metrics.CategoricalAccuracy()\n",
        "\n",
        "    # Set the optimizer\n",
        "    optimizer = tf.keras.optimizers.Adam(self.__learning_rate)\n",
        "\n",
        "    # Create train and test datasets containing both features and labels\n",
        "    train_dataset = tf.data.Dataset.zip((self.__x_train, self.__y_train))\n",
        "    test_dataset = tf.data.Dataset.zip((self.__x_test, self.__y_test))\n",
        "\n",
        "    # Create mininatches\n",
        "    train_minibatches = train_dataset.batch(self.__minibatch_size)\n",
        "    test_minibatches = test_dataset.batch(self.__minibatch_size)\n",
        "\n",
        "    # Start training\n",
        "    for epoch in range(self.__epochs):\n",
        "      # Initialize the cost of the current epoch.\n",
        "      cost = .0\n",
        "\n",
        "      # Reset train and test accuracies before computing them.\n",
        "      train_accuracy.reset_states()\n",
        "      test_accuracy.reset_states()\n",
        "\n",
        "      # Forward propagation\n",
        "      for (mini_x, mini_y) in train_minibatches:\n",
        "        with tf.GradientTape() as tape:\n",
        "          Z = self.__linear_forward(tf.transpose(mini_x))\n",
        "          mini_cost = self.__compute_cost(Z, tf.transpose(mini_y))\n",
        "\n",
        "        # Provide only the logits since argmax of logits and probabilities\n",
        "        # are the same\n",
        "        train_accuracy.update_state(tf.transpose(Z), mini_y)\n",
        "\n",
        "        # Convert the dictionary containing parameters into a list of\n",
        "        # trainable variables needed for both computing the gradients and\n",
        "        # performing the Adam optimization\n",
        "        trainable = list(self.__parameters.values())\n",
        "        grads = tape.gradient(mini_cost, trainable)\n",
        "        optimizer.apply_gradients(zip(grads, trainable))\n",
        "\n",
        "        cost = cost + mini_cost\n",
        "\n",
        "      # Compute the cost of the current epoch\n",
        "      cost = cost / train_dataset.cardinality().numpy()\n",
        "\n",
        "      if epoch % 10 == 0 and self.__print_cost is True:\n",
        "        print(\"Cost after epoch: \", epoch, \": \", cost)\n",
        "        print(\"Train accuracy: \", train_accuracy.result())\n",
        "\n",
        "        # Evaluate also the testing set.\n",
        "        for (mini_x, mini_y) in test_minibatches:\n",
        "          Z = self.__linear_forward(tf.transpose(mini_x))\n",
        "          test_accuracy.update_state(tf.transpose(Z), mini_y)\n",
        "        \n",
        "        print(\"Test accuracy: \", test_accuracy.result())\n",
        "        print(\"\\n\")\n",
        "\n",
        "      if epoch % 10 == 0:\n",
        "        costs.append(cost)\n",
        "        train_accuracies.append(train_accuracy.result())\n",
        "        test_accuracies.append(test_accuracy.result())\n",
        "    \n",
        "    return costs, train_accuracies, test_accuracies"
      ],
      "execution_count": 6,
      "outputs": []
    },
    {
      "cell_type": "markdown",
      "metadata": {
        "id": "eGZ8pjWOgr8c"
      },
      "source": [
        "Set the dimensions (hidden layers only, no input or output) and then initialize a model."
      ]
    },
    {
      "cell_type": "code",
      "metadata": {
        "id": "9NcQ-cfeu_MA"
      },
      "source": [
        "hidden_dimensions = [32, 16]\n",
        "model = Model(x_train, y_train, x_test, y_test, hidden_dimensions, \n",
        "              learning_rate=0.0003, \n",
        "              epochs=50, \n",
        "              minibatch_size=32, \n",
        "              print_cost=True)"
      ],
      "execution_count": 7,
      "outputs": []
    },
    {
      "cell_type": "code",
      "metadata": {
        "colab": {
          "base_uri": "https://localhost:8080/"
        },
        "id": "60da2vs69zbP",
        "outputId": "629b9470-9c26-45e6-e80f-4e5e81323a72"
      },
      "source": [
        "costs, train_acc, test_acc = model.fit()"
      ],
      "execution_count": 8,
      "outputs": [
        {
          "output_type": "stream",
          "name": "stdout",
          "text": [
            "Cost after epoch:  0 :  tf.Tensor(0.020634495, shape=(), dtype=float32)\n",
            "Train accuracy:  tf.Tensor(0.80973333, shape=(), dtype=float32)\n",
            "Test accuracy:  tf.Tensor(0.9144, shape=(), dtype=float32)\n",
            "\n",
            "\n",
            "Cost after epoch:  10 :  tf.Tensor(0.00357145, shape=(), dtype=float32)\n",
            "Train accuracy:  tf.Tensor(0.96648335, shape=(), dtype=float32)\n",
            "Test accuracy:  tf.Tensor(0.956, shape=(), dtype=float32)\n",
            "\n",
            "\n",
            "Cost after epoch:  20 :  tf.Tensor(0.002329879, shape=(), dtype=float32)\n",
            "Train accuracy:  tf.Tensor(0.9784, shape=(), dtype=float32)\n",
            "Test accuracy:  tf.Tensor(0.9622, shape=(), dtype=float32)\n",
            "\n",
            "\n",
            "Cost after epoch:  30 :  tf.Tensor(0.0016617246, shape=(), dtype=float32)\n",
            "Train accuracy:  tf.Tensor(0.9848667, shape=(), dtype=float32)\n",
            "Test accuracy:  tf.Tensor(0.9636, shape=(), dtype=float32)\n",
            "\n",
            "\n",
            "Cost after epoch:  40 :  tf.Tensor(0.0012045094, shape=(), dtype=float32)\n",
            "Train accuracy:  tf.Tensor(0.98985, shape=(), dtype=float32)\n",
            "Test accuracy:  tf.Tensor(0.964, shape=(), dtype=float32)\n",
            "\n",
            "\n"
          ]
        }
      ]
    },
    {
      "cell_type": "code",
      "metadata": {
        "colab": {
          "base_uri": "https://localhost:8080/",
          "height": 281
        },
        "id": "RVJY7ZEG_3oK",
        "outputId": "c30f8d2a-ea07-466b-91b9-9790a46f7086"
      },
      "source": [
        "# Plot the cost\n",
        "\n",
        "d = model.get_info()\n",
        "plt.plot(np.squeeze(costs))\n",
        "plt.title(\"Learning rate: \" + str(d[\"learning_rate\"]))\n",
        "plt.ylabel(\"Cost\")\n",
        "plt.show()"
      ],
      "execution_count": 9,
      "outputs": [
        {
          "output_type": "display_data",
          "data": {
            "image/png": "[encoded data removed]",
            "text/plain": [
              "<Figure size 432x288 with 1 Axes>"
            ]
          },
          "metadata": {
            "needs_background": "light"
          }
        }
      ]
    },
    {
      "cell_type": "markdown",
      "metadata": {
        "id": "GTm2QZf5qUxL"
      },
      "source": [
        "Test the model on a random images outside the datasets. The loaded images are converted to grayscale and then inverted to match the MNIST convention."
      ]
    },
    {
      "cell_type": "code",
      "metadata": {
        "id": "1s5aZCNpd5y_"
      },
      "source": [
        "def convert_image_to_tensor(path):\n",
        "  digit_image = Image.open(path).convert('L')\n",
        "  digit_image = digit_image.resize((28, 28))\n",
        "  digit_image_rev = ImageOps.invert(digit_image)\n",
        "\n",
        "  digit_np = np.array(digit_image_rev)\n",
        "\n",
        "  digit_tf = tf.convert_to_tensor(digit_np)\n",
        "  digit_tf = tf.reshape(digit_tf, (784, 1))\n",
        "  digit_tf = tf.cast(digit_tf, tf.float32) / 255.\n",
        "\n",
        "  return digit_np, digit_tf"
      ],
      "execution_count": 10,
      "outputs": []
    },
    {
      "cell_type": "code",
      "metadata": {
        "colab": {
          "base_uri": "https://localhost:8080/",
          "height": 248
        },
        "id": "rgwMsK7GNGlz",
        "outputId": "dc820ec4-852c-4761-da27-232e1ac39096"
      },
      "source": [
        "digit_2_path = r'/content/Drawing2.jpeg'\n",
        "digit_2_np, digit_2_tf = convert_image_to_tensor(digit_2_path)\n",
        "plt.imshow(digit_2_np, cmap='gray')\n",
        "plt.axis('off')\n",
        "plt.show()"
      ],
      "execution_count": 12,
      "outputs": [
        {
          "output_type": "display_data",
          "data": {
            "image/png": "[encoded data removed]",
            "text/plain": [
              "<Figure size 432x288 with 1 Axes>"
            ]
          },
          "metadata": {
            "needs_background": "light"
          }
        }
      ]
    },
    {
      "cell_type": "markdown",
      "metadata": {
        "id": "KMTKFdV_O8Vc"
      },
      "source": [
        "Predict the label by calling the prediction method on the tensor representing the image."
      ]
    },
    {
      "cell_type": "code",
      "metadata": {
        "id": "mkWOebedbRPQ",
        "colab": {
          "base_uri": "https://localhost:8080/"
        },
        "outputId": "0cd01dbc-daea-4f02-8d8c-d739bac62785"
      },
      "source": [
        "y = model.predict(digit_2_tf)\n",
        "print(\"Label predicted: \", np.squeeze(y.numpy()))"
      ],
      "execution_count": 13,
      "outputs": [
        {
          "output_type": "stream",
          "name": "stdout",
          "text": [
            "Label predicted:  2\n"
          ]
        }
      ]
    },
    {
      "cell_type": "code",
      "metadata": {
        "colab": {
          "base_uri": "https://localhost:8080/",
          "height": 248
        },
        "id": "xebtObhKgz5i",
        "outputId": "26190554-2f1f-4a6b-8bb2-86128ecffca9"
      },
      "source": [
        "digit_5_path = r'/content/Drawing5.jpeg'\n",
        "digit_5_np, digit_5_tf = convert_image_to_tensor(digit_5_path)\n",
        "plt.imshow(digit_5_np, cmap='gray')\n",
        "plt.axis('off')\n",
        "plt.show()"
      ],
      "execution_count": 14,
      "outputs": [
        {
          "output_type": "display_data",
          "data": {
            "image/png": "[encoded data removed]",
            "text/plain": [
              "<Figure size 432x288 with 1 Axes>"
            ]
          },
          "metadata": {
            "needs_background": "light"
          }
        }
      ]
    },
    {
      "cell_type": "code",
      "metadata": {
        "colab": {
          "base_uri": "https://localhost:8080/"
        },
        "id": "EDWFkrtog4Oo",
        "outputId": "176fd268-ff4d-4893-8e18-bb2fe4a602e5"
      },
      "source": [
        "y = model.predict(digit_5_tf)\n",
        "print(\"Label predicted: \", np.squeeze(y.numpy()))"
      ],
      "execution_count": 15,
      "outputs": [
        {
          "output_type": "stream",
          "name": "stdout",
          "text": [
            "Label predicted:  5\n"
          ]
        }
      ]
    },
    {
      "cell_type": "code",
      "metadata": {
        "colab": {
          "base_uri": "https://localhost:8080/",
          "height": 281
        },
        "id": "WjZNjcvMQlHG",
        "outputId": "01391db9-34d6-4d46-9360-1c590a60f066"
      },
      "source": [
        "# Plot the training and testing accuracies\n",
        "\n",
        "plt.plot(np.squeeze(train_acc), 'b', label='Training accuracy')\n",
        "plt.plot(np.squeeze(test_acc), 'r', label='Testing accuracy')\n",
        "plt.ylabel(\"Accuracies\")\n",
        "plt.title(\"Learning rate: \" + str(d[\"learning_rate\"]))\n",
        "plt.legend(loc='lower right')\n",
        "plt.show()"
      ],
      "execution_count": 16,
      "outputs": [
        {
          "output_type": "display_data",
          "data": {
            "image/png": "[encoded data removed]",
            "text/plain": [
              "<Figure size 432x288 with 1 Axes>"
            ]
          },
          "metadata": {
            "needs_background": "light"
          }
        }
      ]
    }
  ]
}